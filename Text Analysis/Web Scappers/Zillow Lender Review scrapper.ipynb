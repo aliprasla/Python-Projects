{
 "cells": [
  {
   "cell_type": "code",
   "execution_count": 180,
   "metadata": {
    "collapsed": true
   },
   "outputs": [],
   "source": [
    "from selenium import webdriver\n",
    "from selenium.webdriver.common.keys import Keys\n",
    "from selenium.webdriver.support.ui import WebDriverWait\n",
    "from selenium.webdriver.support import expected_conditions as EC\n",
    "from selenium.webdriver.common.by import By\n",
    "import time\n",
    "import re\n",
    "import numpy as np\n",
    "import pandas as pd"
   ]
  },
  {
   "cell_type": "code",
   "execution_count": 9,
   "metadata": {
    "collapsed": true
   },
   "outputs": [],
   "source": []
  },
  {
   "cell_type": "code",
   "execution_count": null,
   "metadata": {
    "collapsed": true
   },
   "outputs": [],
   "source": [
    "%reset"
   ]
  },
  {
   "cell_type": "code",
   "execution_count": 198,
   "metadata": {
    "scrolled": true
   },
   "outputs": [
    {
     "name": "stdout",
     "output_type": "stream",
     "text": [
      "PrimeLending, A PlainsCapital Company\n",
      "Begin processing reviews\n",
      "Element found\n",
      "revElementList created. Beginning for review iteration\n",
      "Length of Element list 710\n",
      "Caliber Home Loans\n",
      "Begin processing reviews\n",
      "Element found\n",
      "revElementList created. Beginning for review iteration\n",
      "Length of Element list 670\n",
      "Supreme Lending\n",
      "Begin processing reviews\n",
      "Element found\n",
      "revElementList created. Beginning for review iteration\n",
      "Length of Element list 690\n",
      "Supreme Lending\n",
      "Begin processing reviews\n",
      "Element found\n",
      "revElementList created. Beginning for review iteration\n",
      "Length of Element list 690\n",
      "Stearns Lending, LLC\n",
      "Begin processing reviews\n",
      "Element found\n",
      "revElementList created. Beginning for review iteration\n",
      "Length of Element list 808\n",
      "Cendera Funding, Inc.\n",
      "Begin processing reviews\n",
      "Element found\n",
      "revElementList created. Beginning for review iteration\n",
      "Length of Element list 841\n",
      "Pacific Union Financial, LLC\n",
      "Begin processing reviews\n",
      "Element found\n",
      "revElementList created. Beginning for review iteration\n",
      "Length of Element list 603\n",
      "Great Western Financial Services, Inc.\n",
      "Begin processing reviews\n",
      "Element found\n",
      "revElementList created. Beginning for review iteration\n",
      "Length of Element list 363\n",
      "VIP Mortgage Inc.\n",
      "Begin processing reviews\n",
      "Element found\n",
      "revElementList created. Beginning for review iteration\n",
      "Length of Element list 431\n",
      "Certainty Home Loans, LLC\n",
      "Begin processing reviews\n",
      "Element found\n",
      "revElementList created. Beginning for review iteration\n",
      "Length of Element list 338\n",
      "PrimeWest Mortgage Corporation\n",
      "Begin processing reviews\n",
      "Element found\n",
      "revElementList created. Beginning for review iteration\n",
      "Length of Element list 323\n"
     ]
    }
   ],
   "source": [
    "urlList = [\"https://www.zillow.com/lender-profile/PrimeLending\",\"https://www.zillow.com/lender-profile/CaliberHomeLoans\",\n",
    "           \"https://www.zillow.com/lender-profile/SupremeLendingCorporate\",\"https://www.zillow.com/lender-profile/SupremeLendingCorporate\",\n",
    "          \"https://www.zillow.com/lender-profile/Stearns%20Lending\",\"https://www.zillow.com/lender-profile/Cendera%20Funding/\",\n",
    "          \"https://www.zillow.com/lender-profile/Pacific%20Union/\",\"https://www.zillow.com/lender-profile/Great%20Western/\"\n",
    "           ,\"https://www.zillow.com/lender-profile/www.vipmtg.ccom/\",\"https://www.zillow.com/lender-profile/zuser20151204075538567/\",\"https://www.zillow.com/lender-profile/PrimeWest/\"]\n",
    "driver = webdriver.Chrome('C:/Users/Ali Prasla/chromedriver.exe')\n",
    "allReviewList = []\n",
    "for url in urlList:\n",
    "    revList = []\n",
    "    driver.get(url)\n",
    "    #extract header data\n",
    "    lenderName = WebDriverWait(driver, 30).until(EC.presence_of_element_located((By.XPATH, '//h1[@class= \"lender-name\"]')))\n",
    "    #showMoreReviewElem = WebDriverWait(driver,30).until(EC.presence_of_element_located((By.XPATH,'div[@class=\"zsg-content-item\" and @style=\"text-align: center;\"]')))\n",
    "    lenderName = lenderName.text\n",
    "    print lenderName\n",
    "    time.sleep(1)\n",
    "    divList = driver.find_elements_by_class_name(\"dont-break-out\")\n",
    "    header = divList[0].text\n",
    "    #find show more reviews button:\n",
    "    currentIdx = 0\n",
    "    while True:\n",
    "        aList = driver.find_elements_by_class_name('zsg-content-item')\n",
    "        currentA = aList[currentIdx]\n",
    "        #does element exist checker\n",
    "        try:\n",
    "            time.sleep(1)\n",
    "            while currentA.text != \"Show more reviews\":\n",
    "                currentA = aList[currentIdx]\n",
    "                currentIdx += 1\n",
    "            currentIdx -= 1\n",
    "            currentA.click()\n",
    "        except:\n",
    "            break\n",
    "        if currentIdx >= 1000:\n",
    "            break\n",
    "    #all scrolling completed by this point\n",
    "    print \"Begin processing reviews\"\n",
    "    allRevElement = driver.find_element_by_xpath(\"//ul[@class = 'zsg-content-component dont-break-out']\")    \n",
    "    print \"Element found\"\n",
    "    revElementList = allRevElement.find_elements_by_xpath('//div[@style = \"border-top: 1px solid rgb(204, 204, 204); padding-top: 20px;\"]')\n",
    "    print \"revElementList created. Beginning for review iteration\"\n",
    "    print \"Length of Element list\", len(revElementList)\n",
    "    while len(revElementList) > 0:\n",
    "        #gets element from list\n",
    "        reviewElement = revElementList.pop(0)\n",
    "        rating  = reviewElement.find_elements_by_class_name('zsg-lg-1-2')[0].find_element_by_tag_name('span').get_attribute('class')\n",
    "        rating = int(re.search(\"[0-9][0-9][0-9]\",rating).group(0))/100.0\n",
    "        l =  reviewElement.find_elements_by_class_name('zsg-fineprint')\n",
    "        revDate = l[0].text\n",
    "        location = l[1].text \n",
    "        try:\n",
    "            location = re.search(\"[A-Z](.*),(.*)\",location).group(0)\n",
    "        except:\n",
    "            location = np.NaN\n",
    "        #use regex to extract location\n",
    "        title = reviewElement.find_element_by_tag_name(\"h3\").text\n",
    "        textElement = reviewElement.find_element_by_class_name(\"dont-break-out\")\n",
    "        #clicks read more on reviews\n",
    "        try:\n",
    "            checkText = str(textElement.text)\n",
    "        except:\n",
    "            continue\n",
    "        if \"Read more\" in checkText:\n",
    "            #complicated, but executes javascript that deals with an 'Element not clickable' exception\n",
    "            try:\n",
    "                elem = textElement.find_element_by_tag_name('a')\n",
    "                elem.click()\n",
    "            except:\n",
    "                continue\n",
    "        reviewText = textElement.text\n",
    "        revList.append([lenderName,rating,revDate,location,title,reviewText])\n",
    "    allReviewList.extend(revList)\n",
    "driver.close()"
   ]
  },
  {
   "cell_type": "code",
   "execution_count": 199,
   "metadata": {},
   "outputs": [
    {
     "name": "stdout",
     "output_type": "stream",
     "text": [
      "6\n"
     ]
    }
   ],
   "source": [
    "print len(allReviewList[0])\n",
    "df = pd.DataFrame(allReviewList)\n",
    "df.columns = [\"LenderName\",\"Rating\",\"ReviewDate\",\"Location\",\"Title\",\"ReviewText\"]\n",
    "df.to_csv(\"ZillowLenderReviews.csv\",encoding = 'utf-8')"
   ]
  },
  {
   "cell_type": "code",
   "execution_count": 203,
   "metadata": {},
   "outputs": [
    {
     "data": {
      "text/plain": [
       "Supreme Lending                           1358\n",
       "Cendera Funding, Inc.                      835\n",
       "Stearns Lending, LLC                       797\n",
       "PrimeLending, A PlainsCapital Company      706\n",
       "Caliber Home Loans                         659\n",
       "Pacific Union Financial, LLC               592\n",
       "VIP Mortgage Inc.                          426\n",
       "Great Western Financial Services, Inc.     360\n",
       "Certainty Home Loans, LLC                  334\n",
       "PrimeWest Mortgage Corporation             322\n",
       "Name: LenderName, dtype: int64"
      ]
     },
     "execution_count": 203,
     "metadata": {},
     "output_type": "execute_result"
    }
   ],
   "source": [
    "df[\"LenderName\"].value_counts()"
   ]
  }
 ],
 "metadata": {
  "kernelspec": {
   "display_name": "Python 2",
   "language": "python",
   "name": "python2"
  },
  "language_info": {
   "codemirror_mode": {
    "name": "ipython",
    "version": 2
   },
   "file_extension": ".py",
   "mimetype": "text/x-python",
   "name": "python",
   "nbconvert_exporter": "python",
   "pygments_lexer": "ipython2",
   "version": "2.7.13"
  }
 },
 "nbformat": 4,
 "nbformat_minor": 2
}
